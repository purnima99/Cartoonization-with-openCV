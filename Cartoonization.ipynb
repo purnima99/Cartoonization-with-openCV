{
 "cells": [
  {
   "cell_type": "markdown",
   "metadata": {},
   "source": [
    "# Cartoonization with OpenCV"
   ]
  },
  {
   "cell_type": "markdown",
   "metadata": {},
   "source": [
    "1. Apply a bilateral filter to reduce the colour palette of the image.\n",
    "2. Convert the original colour of the image to grayscale.\n",
    "3. Apply a median blur to reduce image noise in the resultant grayscale image.\n",
    "4. Create an edge mask from the grayscale image using adaptive thresholding.\n",
    "5. Combining the colour image from step1 with the edge mask from step 4. "
   ]
  },
  {
   "cell_type": "code",
   "execution_count": 2,
   "metadata": {},
   "outputs": [
    {
     "name": "stdout",
     "output_type": "stream",
     "text": [
      "(179, 281, 3)\n",
      "(800, 800, 3)\n"
     ]
    },
    {
     "data": {
      "text/plain": [
       "-1"
      ]
     },
     "execution_count": 2,
     "metadata": {},
     "output_type": "execute_result"
    }
   ],
   "source": [
    "import cv2 \n",
    "import numpy as np\n",
    "\n",
    "num_down = 2\n",
    "num_bilateral = 7 \n",
    "\n",
    "img = cv2.imread(\"image.jpg\")\n",
    "print(img.shape)\n",
    "\n",
    "img = cv2.resize(img,(800,800))\n",
    "print(img.shape)\n",
    "\n",
    "img_colour = img\n",
    "for _ in range (num_down):\n",
    "    img_colour = cv2.pyrDown(img_colour)\n",
    "    \n",
    "for _ in range (num_bilateral):    \n",
    "    img_colour = cv2.bilateralFilter(img_colour, d=9, sigmaColor=9, sigmaSpace=7)\n",
    "    \n",
    "for _ in range (num_down):\n",
    "    img_colour = cv2.pyrUp(img_colour) \n",
    "    \n",
    "img_gray = cv2.cvtColor(img_colour, cv2.COLOR_RGB2GRAY)\n",
    "img_blur = cv2.medianBlur(img_gray, 7)\n",
    "\n",
    "img_edge = cv2.adaptiveThreshold(img_blur, 255, cv2.ADAPTIVE_THRESH_MEAN_C, cv2.THRESH_BINARY, blockSize=9, C=2)\n",
    "    \n",
    "img_edge = cv2.cvtColor(img_edge, cv2.COLOR_GRAY2RGB)\n",
    "img_cartoon = cv2.bitwise_and(img_colour, img_edge)\n",
    "\n",
    "#cv2.imshow(\"Cartoon\", img_cartoon)\n",
    "\n",
    "stack = np.hstack([img_colour, img_cartoon])\n",
    "cv2.imshow(\"side by side\",stack)\n",
    "\n",
    "cv2.waitKey(0)\n",
    "    "
   ]
  }
 ],
 "metadata": {
  "kernelspec": {
   "display_name": "Python 3",
   "language": "python",
   "name": "python3"
  },
  "language_info": {
   "codemirror_mode": {
    "name": "ipython",
    "version": 3
   },
   "file_extension": ".py",
   "mimetype": "text/x-python",
   "name": "python",
   "nbconvert_exporter": "python",
   "pygments_lexer": "ipython3",
   "version": "3.8.3"
  }
 },
 "nbformat": 4,
 "nbformat_minor": 4
}
